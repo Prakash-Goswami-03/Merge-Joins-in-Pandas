{
 "cells": [
  {
   "cell_type": "code",
   "execution_count": null,
   "metadata": {},
   "outputs": [],
   "source": [
    "#1. Do we need sorting of the primary key in pandas? The Sorting is not required in pandas\n",
    "#The output is driven by the first frame, the key type should be same\n",
    "\n",
    "import pandas as pd\n",
    "a = pd.DataFrame({\n",
    "         'id':[3,1,2],\n",
    "         'Name': ['a', 'b', 'c'],\n",
    "         'sub':['M','E','S']})\n",
    "b = pd.DataFrame(\n",
    "         {'id':[1,2,13],\n",
    "         'marks':[100,52,99]})\n",
    "c=pd.merge(a,b,how='inner',on='id')\n",
    "\n",
    "\n"
   ]
  },
  {
   "cell_type": "code",
   "execution_count": null,
   "metadata": {},
   "outputs": [],
   "source": [
    "c"
   ]
  },
  {
   "cell_type": "code",
   "execution_count": null,
   "metadata": {},
   "outputs": [],
   "source": [
    "\n",
    "#1.1 Do we need sorting of the primary key in pandas? The Sorting is not required in pandas\n",
    "#The output is driven by the first frame\n",
    "\n",
    "import pandas as pd\n",
    "a = pd.DataFrame({\n",
    "         'id':[3,1,2],\n",
    "         'Name': ['a', 'b', 'c'],\n",
    "         'sub':['M','E','S']})\n",
    "b = pd.DataFrame(\n",
    "         {'id':[1,2,13],\n",
    "         'marks':[100,52,99]})\n",
    "c=pd.merge(a,b,how='inner',on='id')\n"
   ]
  },
  {
   "cell_type": "code",
   "execution_count": null,
   "metadata": {},
   "outputs": [],
   "source": [
    "c"
   ]
  },
  {
   "cell_type": "code",
   "execution_count": null,
   "metadata": {},
   "outputs": [],
   "source": [
    "#2.Primary key is definitely required, however the mention is not required if there are common keys, \n",
    "#similar to Natural join in SAS and default is inner join\n",
    "\n",
    "import pandas as pd\n",
    "a = pd.DataFrame({\n",
    "         'id':[3,1,21],\n",
    "         'Name': ['a', 'b', 'c'],\n",
    "         'sub':['M','E','S']})\n",
    "b = pd.DataFrame(\n",
    "         {'id':[1,2,3],\n",
    "         'marks':[100,52,99]})\n",
    "c=pd.merge(b,a)"
   ]
  },
  {
   "cell_type": "code",
   "execution_count": null,
   "metadata": {},
   "outputs": [],
   "source": [
    "c"
   ]
  },
  {
   "cell_type": "code",
   "execution_count": null,
   "metadata": {},
   "outputs": [],
   "source": [
    "#2.1 Let's take another example, where 2 keys are common, both are used for the merge\n",
    "import pandas as pd\n",
    "a = pd.DataFrame({\n",
    "         'id':[1,21,3],\n",
    "         'Name': ['a', 'b', 'c'],\n",
    "         'sub':['M','E','S']})\n",
    "b = pd.DataFrame(\n",
    "         {'id':[1,2,3],\n",
    "          'Name': ['a', 'b', 'k'],\n",
    "         'marks':[100,52,99]})\n",
    "c=pd.merge(b,a)"
   ]
  },
  {
   "cell_type": "code",
   "execution_count": null,
   "metadata": {},
   "outputs": [],
   "source": [
    "c"
   ]
  },
  {
   "cell_type": "code",
   "execution_count": null,
   "metadata": {},
   "outputs": [],
   "source": [
    "#3. What if there is no common key, the code would error out '''\n",
    "import pandas as pd\n",
    "a = pd.DataFrame({\n",
    "         'id1':[1,2,3],\n",
    "         'Na': ['a', 'b', 'c'],\n",
    "         'sub':['M','E','S']})\n",
    "b = pd.DataFrame(\n",
    "         {'id':[1,2,3],\n",
    "          'Name': ['a', 'b', 'k'],\n",
    "         'marks':[100,52,99]})\n",
    "c=pd.merge(b,a)"
   ]
  },
  {
   "cell_type": "code",
   "execution_count": null,
   "metadata": {},
   "outputs": [],
   "source": [
    "c"
   ]
  },
  {
   "cell_type": "code",
   "execution_count": null,
   "metadata": {},
   "outputs": [],
   "source": [
    "#4. How can I merge based on 2 keys or composite key'''\n",
    "import pandas as pd\n",
    "a = pd.DataFrame({\n",
    "         'id':[1,2,3],\n",
    "         'Name': ['a', 'b', 'c'],\n",
    "         'sub':['M','E','S']})\n",
    "b = pd.DataFrame(\n",
    "         {'id':[1,2,7],\n",
    "          'Name': ['a', 'baba', 'k'],\n",
    "         'marks':[100,52,99]})\n",
    "c=pd.merge(b,a, how='inner',on=['id','Name'])"
   ]
  },
  {
   "cell_type": "code",
   "execution_count": null,
   "metadata": {},
   "outputs": [],
   "source": [
    "c"
   ]
  },
  {
   "cell_type": "code",
   "execution_count": null,
   "metadata": {},
   "outputs": [],
   "source": [
    "#5. what if the key vars have diff names in the 2 dataframes'''\n",
    "\n",
    "import pandas as pd\n",
    "a = pd.DataFrame({\n",
    "         'id':[3,1,7],\n",
    "         'Name': ['a', 'b', 'c'],\n",
    "         'sub':['M','E','S']})\n",
    "b = pd.DataFrame(\n",
    "         {'pid':[1,2,3],\n",
    "         'marks':[100,52,99]})\n",
    "c=pd.merge(a,b,how='inner',left_on=['id'], right_on=['pid'])"
   ]
  },
  {
   "cell_type": "code",
   "execution_count": null,
   "metadata": {},
   "outputs": [],
   "source": [
    "c"
   ]
  },
  {
   "cell_type": "code",
   "execution_count": null,
   "metadata": {},
   "outputs": [],
   "source": [
    "#6. Loyal Customers: The Loyal customers can be identified using the inner join of the 2 frames\n",
    "#The Indicator helps\n",
    "\n",
    "import pandas as pd\n",
    "jan = pd.DataFrame({'id':[1,2,3]})\n",
    "feb = pd.DataFrame({'id':[1,2,7]})\n",
    "check=pd.merge(jan,feb, how='outer',on='id',indicator=True)\n",
    "loyal=check[(check._merge=='both')]\n",
    "loyal.drop(['_merge'],axis=1)\n"
   ]
  },
  {
   "cell_type": "code",
   "execution_count": null,
   "metadata": {},
   "outputs": [],
   "source": [
    "#7. Left Customers: The customers can be identified in the same way\n",
    "\n",
    "import pandas as pd\n",
    "jan = pd.DataFrame({'id':[1,2,3]})\n",
    "feb = pd.DataFrame({'id':[1,2,7]})\n",
    "check=pd.merge(jan,feb, how='outer',on='id',indicator=True)\n",
    "left=check[(check._merge=='left_only')]\n",
    "left.drop(['_merge'],axis=1)"
   ]
  },
  {
   "cell_type": "code",
   "execution_count": null,
   "metadata": {},
   "outputs": [],
   "source": [
    "#8. New Customers: The Loyal customers can be identified\n",
    "\n",
    "import pandas as pd\n",
    "jan = pd.DataFrame({'id':[1,2,3]})\n",
    "feb = pd.DataFrame({'id':[1,2,7]})\n",
    "check=pd.merge(jan,feb, how='outer',on='id',indicator=True)\n",
    "new=check[(check._merge=='right_only')]\n",
    "new.drop(['_merge'],axis=1)"
   ]
  },
  {
   "cell_type": "code",
   "execution_count": null,
   "metadata": {},
   "outputs": [],
   "source": []
  },
  {
   "cell_type": "code",
   "execution_count": null,
   "metadata": {},
   "outputs": [],
   "source": []
  },
  {
   "cell_type": "code",
   "execution_count": null,
   "metadata": {},
   "outputs": [],
   "source": []
  },
  {
   "cell_type": "code",
   "execution_count": null,
   "metadata": {},
   "outputs": [],
   "source": []
  }
 ],
 "metadata": {
  "kernelspec": {
   "display_name": "Python 3",
   "language": "python",
   "name": "python3"
  },
  "language_info": {
   "codemirror_mode": {
    "name": "ipython",
    "version": 3
   },
   "file_extension": ".py",
   "mimetype": "text/x-python",
   "name": "python",
   "nbconvert_exporter": "python",
   "pygments_lexer": "ipython3",
   "version": "3.7.3"
  }
 },
 "nbformat": 4,
 "nbformat_minor": 2
}
